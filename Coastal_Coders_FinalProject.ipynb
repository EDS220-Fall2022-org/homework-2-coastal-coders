{
 "cells": [
  {
   "cell_type": "markdown",
   "id": "2646a34e-a634-47ac-9fe7-73bf40ece8ae",
   "metadata": {},
   "source": [
    "# HW2/Final Project Template: Dataset Overview and Use Case Examples\n",
    "## EDS 220, Fall 2022\n",
    "\n",
    "Many of the resources provided are adapted from this template guide to notebook creation built for the \"EarthCube\" project:\n",
    "https://github.com/earthcube/NotebookTemplates"
   ]
  },
  {
   "cell_type": "markdown",
   "id": "56a405bf-2d38-4175-a931-f52905e11211",
   "metadata": {
    "jp-MarkdownHeadingCollapsed": true,
    "tags": []
   },
   "source": [
    "## Exploring US Marine Protected Areas"
   ]
  },
  {
   "cell_type": "markdown",
   "id": "dc47afd0-adb0-4d5b-8903-992b7904322e",
   "metadata": {},
   "source": [
    "\n",
    "#### Authors\n",
    "- Colleen McCamy, Master of Environmental Data Science Student, (colleenmccamy@bren.ucsb.edu)\n",
    "- Atahualpa Gomez, Master of Environmental Data Science Student, (atahualpa@ucsb.edu)\n",
    "- Jared Petry, Master of Environmental Data Science Student, (jaredpetry@ucsb.edu)\n",
    "- Adelaide Robinson, Master of Environmental Data Science Student, (adelaide_robinson@ucsb.edu)"
   ]
  },
  {
   "cell_type": "markdown",
   "id": "1e8c2013-fef1-44ac-bb00-3215807cacac",
   "metadata": {},
   "source": [
    "## Table of Contents\n",
    "\n",
    "[1. Purpose](#purpose)\n",
    "\n",
    "[2. Dataset Description](#overview)\n",
    "\n",
    "[3. Data I/O](#io)\n",
    "\n",
    "[4. Metadata Display and Basic Visualization](#display)\n",
    "\n",
    "[5. Use Case Examples](#usecases)\n",
    "\n",
    "[6. Create Binder Environment](#binder)\n",
    "\n",
    "[7. References](#references)"
   ]
  },
  {
   "cell_type": "markdown",
   "id": "ba52c6e3-3584-48be-b500-21578b61bd72",
   "metadata": {},
   "source": [
    "<a id='purpose'></a> \n",
    "### Notebook Purpose\n",
    "\n",
    "State the overall purpose of the notebook. Again, this may seem obvious for this particular case, but can come in handy if you're using the notebook later on!\n"
   ]
  },
  {
   "cell_type": "markdown",
   "id": "d429260a-2c30-44da-a5af-e100a440056a",
   "metadata": {},
   "source": [
    "<a id='overview'></a> \n",
    "# Data Description\n",
    "The dataset is part of the MPA inventory that is created and managed by the National Oceanic and Atmosphere Administration (NOAA). The inventory indicates Marine Protected Area (MPA) boundaries in the US waters and provides additional classifications and attributes for each MPA. The data are updated annually and synthesizes an in depth [classification system](https://nmsmarineprotectedareas.blob.core.windows.net/marineprotectedareas-prod/media/docs/20200715-mpa-classification.pdf) to better understand impacts and uses of MPAs.\n",
    "\n",
    "\n",
    "## Scope\n",
    "The data spatially cover US waters throughout the contiguous US, Hawai'i, Alaska, and US Territories. All of the MPA boundaries adhere to the IUCN protected area definition of, \"A clearly defined geographical space, recognized, dedicated, and managed, through legal or other effective means, to achieve the long-term conservation of nature with associated ecosystem services and cultural values.\" Additional data on boundaries that do not meet the IUCN definition, such as fishery management sites and water quality areas, are available at [Protected Seas database](https://mpa.protectedseas.net/). To access these data at Protected Seas, a login and approval is needed.\n",
    "\n",
    "The geographic extent of the data expand from -180 to 180 longitudinal and -15.386142 to 74.709769 latitudinal and is projected using the World Eckert IV projection and GCS WGS 1984 coordinate reference system.\n",
    "\n",
    "\n",
    "## File Types\n",
    "Upon downloading the data you will receive a zipped folder containing a geodatabase, an excel file, and a PDF. The geodatabase contains the MPA polygon data and associated attributes. The excel file is an index associating site IDs with site names and the PDF contains the metadata which includes information of the different attributions and the meanings for each code and variables. \n",
    "\n",
    "For the analysis conducted below, the geodatabase was used however outside of Python the metadata pdf and excel file naming index were referenced.\n",
    "\n",
    "## Data Retreival\n",
    "There are many different ways to retrieve the data from the MPA Inventory. The following notebook outlines the process in downloading the data directly from the [inventory website](https://marineprotectedareas.noaa.gov/dataanalysis/mpainventory/) using [this link](https://marineprotectedareas.noaa.gov/media/data/NOAA_MPAI_2020_IUCN_gdb.zip), unzipping the file locally on a computer  and then reading the file in to the notebook with the geopandas package.\n",
    "\n",
    "There are many other ways to read in this zipped data into the notebook, but we found this way to be the quickest.\n",
    "\n",
    "## Included in the Data\n",
    "The data provides simple polygons for each MPA boundary and does not include any topological information. For each MPA, additional attributes are includes to describe the management and focus of the area. These attributes include what types of activities are allowed or prohibited in the MPA, if the MPA is temporary or permanent, the level of ecological and cultural protection, and applicable management of the MPA.\n",
    "\n",
    "\n",
    "## Assumptions\n",
    "The data are intended for use pertaining to exploring the status and trends of MPAs, create customized data visualizations and spatial analysis, or add MPAs to data portals or online platforms. This data within the MPA inventory are not designed to be used for regulatory purposes and official boundary descriptions are available through the state and federal code.\n",
    "\n",
    "It is also important to note that since 2020 only data that aligns with the IUCN definitions are included. Before the 2020 version, the MPA Inventory included data on sites that do not adhere to the IUCN definition. If comparing the current MPA Inventory data to analysis using MPA Inventory data prior to the 2020 version, it is important to take in account these differences.\n",
    "\n",
    "Additional questions about the data? Contact the GIS Manager at the National Marine Protected Areas Center, part of NOAA, at MPAINVENTORY@NOAA.GOV."
   ]
  },
  {
   "cell_type": "markdown",
   "id": "02d5cb75-cb54-4708-8b88-459cae2ca17d",
   "metadata": {},
   "source": [
    "<a id='io'></a> \n",
    "### Dataset Input/Output \n",
    "\n",
    "Next, provide code to read in the data necessary for your analysis. This should be in the following order:\n",
    "\n",
    "1) Import all necessary packages (matplotlib, numpy, etc)\n",
    "\n",
    "2) Set any parameters that will be needed during subsequent portions of the notebook. Typical examples of parameters include:\n",
    "- names of any directories where data are stored\n",
    "- ranges of years over which data are valid\n",
    "- any thresholds or latitude/longitude ranges to be used later (e.g. dimensions of NINO3.4 region, threshold SSTA values for El Nino, etc.)\n",
    "\n",
    "3) Read in the data! If the data files are very large, you may want to consider subsetting the portion of files to be read in (see examples of this during notebooks provided in Weeks 7 and 8).\n",
    "\n",
    "Here is a good rule of thumb: It's good to aim for a relatively short amount of time needed to read in the data, since otherwise we'll be sitting around waiting for things to load for a long time. A  minute or two for data I/O is probably the max you'll want to target!"
   ]
  },
  {
   "cell_type": "code",
   "execution_count": null,
   "id": "abc6d044-093a-4f7c-9d4e-7893703461d0",
   "metadata": {},
   "outputs": [],
   "source": [
    "#import packages \n",
    "import geopandas as gpd\n",
    "import folium\n",
    "import matplotlib\n",
    "import numpy as np\n",
    "import scipy\n",
    "from datetime import datetime\n"
   ]
  },
  {
   "cell_type": "markdown",
   "id": "9cfb2568-dd72-445a-9c51-a7fd59702417",
   "metadata": {},
   "source": [
    "## Reading in the data\n",
    "We are storing the data on a shared folder on Taylor, and then reading it through the GeoPandas Package. "
   ]
  },
  {
   "cell_type": "code",
   "execution_count": null,
   "id": "5ac2f4b4-c394-439e-85d0-239dffbbf760",
   "metadata": {},
   "outputs": [],
   "source": [
    "MPA = gpd.read_file(\"../data/NOAA_MPAI_v2020.gdb\") #need to change this to file path on taylor"
   ]
  },
  {
   "cell_type": "markdown",
   "id": "935e5295-fd88-4402-8200-b09dda4ed655",
   "metadata": {},
   "source": [
    "<a id='display'></a> \n",
    "# Metadata and Data Visualization"
   ]
  },
  {
   "cell_type": "markdown",
   "id": "18befa3f-8bb5-431b-ad8b-a2f855794207",
   "metadata": {},
   "source": [
    "## Meta Data"
   ]
  },
  {
   "cell_type": "markdown",
   "id": "e10fea13-adb6-4e38-b390-68ec7a825cc8",
   "metadata": {},
   "source": [
    "\n",
    "Fields Details for the Object NOAA_MPAI_2020_IUCN.\n",
    "| Field    | OBJECTID| Data Type | Field description | Description of Values |\n",
    "| ---------|---------|-----------|------------------ |-------------------|\n",
    "| OBJECTID |OBJECTID |OID      | Internal feature number| Sequential unique whole numbers that are automatically generated.|\n",
    "| Anchor   | Anchor |String        | Describes whether anchoring in the site is permitted              |Prohibited, Unrestricted , Restricted|\n",
    "|Permanence|Permanence |  String | Classification of the permanence of the site| Conditional, Permanent, Temporary. |\n",
    "| Prot_Focus| Protection Focus|String| Ecological scale of site conservation targets| Focal Resource, Ecosystem.|\n",
    "|Mgmt_Plan|Management Plan| String| The type of management plan developed for the site| Non-MPA Programmatic Species Management Plan, MPA Programmatic Management Plan, No Management Plan,Non-MPA Programmatic Habitat Management Plan, Site-Specific Management Plan, Non-MPA Programmatic Fisheries Management Plan, Community Agreement.|\n",
    "|Prot_Lv | Level of Protection| String| Level of legal protection afforded to the site's natural and cultural resources and ecological processes| Uniform Multiple Use, Zoned Multiple Use,  No Impact, No Take,  No Access, To Be Determined, Zoned w/No Take Areas.|\n",
    "|Field_Vesse| Vessel| String|Describes if vessel access is allowed within the MPA|Restricted, Prohibited, Unrestricted.|\n",
    "|State|State|String|State name of MPA, or Program, if MPA is federal||\n",
    "|Shape_Area|Shape Area| Double| Area of feature in internal units squared|Positive real numbers that are automatically generated.|\n",
    "|Estab_Yr| Year Estabilished| Integer| The year the site was officially designated or established|Positive numbers, or 0 if unknown.|\n",
    "|Fish_Rstr| Fishing Restrictions| String|Level of restrictions on commercial and/or recreational fishing| Commercial and Recreational Fishing Restricted , Recreational Fishing Prohibited,Commercial Fishing Restricted, Commercial Fishing Prohibited and Recreational Fishing Restricted, Recreational Fishing Restricted, Commercial Fishing Restricted and Recreational Fishing Prohibited, Commercial Fishing Prohibited, Commercial and Recreational Fishing Prohibited, Unknown, No Site Restrictions.|\n",
    "|Mgmt_Agen|Management Agency| String|Agency responsible for managing the site||\n",
    "|Pri_Con_Fo| Primary Conservation Focus| String|Represents the primary characteristics of the area that the MPA was established to conserve| |\n",
    "|Shape_Length| Shape_Length| Double| Length of feature in internal units| Positive real numbers that are automatically generated.|\n",
    "|Site_ID| Site_ID| String| Unique site identifier assigned by MPAC|Consists of government level identifier combined with unique number value|\n",
    "|Field_Shape| Shape| Geometry| Feature geometry| Coordinates defining the features.|\n",
    "|Site_Name| Site Name| String| Official name of the MPA| |\n",
    "|Constancy| Constancy| String| Classification of the constancy of the site throughout the year| Year-Round, Rotating, Seasonal.|\n",
    "|IUCNcat|IUCN Category| String| IUCN category assigned to sites that meet the international IUCN protected area definition.| Ia (Strict nature reserve), Ib(Wilderness area), II (National Park), III (Natural monument and Natural feature), IV (Habitat management area and Species management area), V(Protected landscape and Protected seascape), VI (Protected Area with sustainable use of natural resources)|\n",
    "|Category| Categories| String|Categorical assignment that separates sites into groups based on whether they are IUCN MPAs, Fishery Management Areas, Water Quality/Human Health, Potential 'Other Effective Conservation Measure\" sites or Other. This field can be used to sort and filter out IUCN MPAs from other kinds of managed areas and will be used in the future to upgrade potential OECMs.| |\n",
    "|Design| Designation| String| Site designation derived from site name|Derived from name given to the site from its managing agency.|\n",
    "|URL| Website| String| Website Link| |\n",
    "|WDPA_Cd| WDPA_Cd| Integer|Unique identifier code assigned to the site in the World Database of Protected Areas| |\n",
    "|ProSeasID|ProSeasID|String|Unique identifier code assigned to the same site in the ProtectedSeas database.|ProtectedSeas.net|\n",
    "|AreaMar| Marine Area (sqkm)| Double| Area of each site that does not include any land areas (exception of small islands, seastacks, atolls, etc). Calculated in World Eckert IV by erasing the terrestrial portion as defined by a moderate resolution national shoreline vector| |\n",
    "|AreaKm| AreaKm| Single| Total area of site. This includes land area when site is mixed land/sea| |\n",
    "|MarPercent| Marine Percent| Integer| Calculated from total area and marine area values using World Eckert IV projection| Calculated from total area and marine area values using World Eckert IV projection.|\n",
    "|AreaNT| No Take Area (sqkm)| Double| No Take area calculated for each site in square kilometers (based off World Eckert IV projection).| Calculated based on no-take area per site.|\n",
    "|Marine|Marine| String| Categorical assignment based on percent area in the marine environment designed to filter out areas that are wholly marine, that are mostly land but intersect the shoreline or that are mixed marine and terrestrial| Marine, Mixed, Interface. | \n",
    "|Cons_Focus| Conservation Focus| String| All characteristics of the area the site was established to conserve| Natural Heritage;  Natural Heritage, Cultural Heritage and Sustainable Production; Natural Heritage and Cultural Heritage; Natural Heritage and Sustainable Production;  Sustainable Production; Cultural Heritage and Sustainable Production; C|Cons_Focus| Conservation Focus| String| All characteristics of the area the site was established to conserve| Natural Heritage;  Natural Heritage, Cultural Heritage and Sustainable Production; Natural Heritage and Cultural Heritage; Natural Heritage and Sustainable Production;  Sustainable Production; Cultural Heritage and Sustainable Production; Cultural Heritage|\n",
    "|Gov_Level| Level of Government| String| Level of government responsible for designating and managing the site| Territorial, Local, State, Federal, Partnership.|"
   ]
  },
  {
   "cell_type": "code",
   "execution_count": null,
   "id": "2a9b1ea5-20f3-48a0-b98b-a99e943707c9",
   "metadata": {},
   "outputs": [],
   "source": [
    "MPA.head() #shows a prieview of the data"
   ]
  },
  {
   "cell_type": "code",
   "execution_count": null,
   "id": "1f3202e5-e965-427c-ae4d-8f157dbeff56",
   "metadata": {},
   "outputs": [],
   "source": [
    "# Analyzes numeric columns by default\n",
    "MPA.describe(include=object)"
   ]
  },
  {
   "cell_type": "code",
   "execution_count": null,
   "id": "a6855434-86fb-4f2a-9be2-9b06d19e5685",
   "metadata": {},
   "outputs": [],
   "source": [
    "#Counting the number of MPA per State\n",
    "MPA[\"State\"].value_counts()"
   ]
  },
  {
   "cell_type": "code",
   "execution_count": null,
   "id": "72238e8e-72e9-430b-ba80-0bb2ad07ac59",
   "metadata": {},
   "outputs": [],
   "source": [
    "#summarize by Level of Goverment \n",
    "MPA[\"Gov_Level\"].value_counts()"
   ]
  },
  {
   "cell_type": "code",
   "execution_count": null,
   "id": "c46abddf-35de-4b8a-92fe-80dc8de15758",
   "metadata": {},
   "outputs": [],
   "source": [
    "#CRS information\n",
    "MPA.crs"
   ]
  },
  {
   "cell_type": "code",
   "execution_count": null,
   "id": "e647d196-8023-4a12-a421-22a59d94a926",
   "metadata": {},
   "outputs": [],
   "source": [
    "\n",
    "# Returns a DataFrame with columns minx, miny, maxx, maxy values containing the bounds for each geometry.\n",
    "print(MPA.total_bounds)"
   ]
  },
  {
   "cell_type": "markdown",
   "id": "48c827e4-6f94-4b71-b97d-16fec773721d",
   "metadata": {},
   "source": [
    "# Data Visualization\n",
    "We chose folium for our data visualization. The maps below include two visualizations of the data, one zoomed out to show more of the extent of the data and another zoomed in on the Santa Barbara area."
   ]
  },
  {
   "cell_type": "code",
   "execution_count": null,
   "id": "268f8872-0318-4293-b299-179dde57c659",
   "metadata": {},
   "outputs": [],
   "source": [
    "MPA = MPA[MPA.Site_Name != \"Papahanaumokuakea Marine National Monument\"] #taking out row that causes issues\n",
    "\n",
    "MPA = MPA.to_crs(epsg=4326) #changing crs to one that works with folium\n",
    "\n",
    "m = folium.Map(location=[40.956705, -100.278378], zoom_start=3.5) #zoom us\n",
    "\n",
    "#for loop that changes file type, and adds to folium map\n",
    "for _, r in MPA.iterrows():\n",
    "    sim_geo = gpd.GeoSeries(r['geometry']).simplify(tolerance=0.001) #simplify geometry\n",
    "    geo_j = sim_geo.to_json() #\n",
    "    geo_j = folium.GeoJson(data=geo_j,\n",
    "                           style_function=lambda x: {'fillColor': 'blue'}) #setting style\n",
    "    folium.Popup(r['Site_Name']).add_to(geo_j)\n",
    "    geo_j.add_to(m)\n",
    "\n",
    "m"
   ]
  },
  {
   "cell_type": "code",
   "execution_count": null,
   "id": "3af882e4-6a95-4f47-8825-b03578864823",
   "metadata": {},
   "outputs": [],
   "source": [
    "ma = folium.Map(location=[34.420830, -119.698189], zoom_start=8) #zoom to santa barbara\n",
    "for _, r in MPA.iterrows():\n",
    "    sim_geo = gpd.GeoSeries(r['geometry']).simplify(tolerance=0.001)\n",
    "    geo_j = sim_geo.to_json()\n",
    "    geo_j = folium.GeoJson(data=geo_j,\n",
    "                           style_function=lambda x: {'fillColor': 'blue'})\n",
    "    folium.Popup(r['Site_Name']).add_to(geo_j)\n",
    "    geo_j.add_to(ma)\n",
    "ma"
   ]
  },
  {
   "cell_type": "markdown",
   "id": "62354cdf-609f-487d-be51-9ea306997a69",
   "metadata": {},
   "source": [
    "<a id='usecases'></a> \n",
    "### Use Case Examples"
   ]
  },
  {
   "cell_type": "markdown",
   "id": "9e5b04a9-b2bb-40ed-bb8c-9c75d3494c38",
   "metadata": {},
   "source": [
    "This is the \"meat\" of the notebook, and what will take the majority of the time to present in class. This section should provide:\n",
    "1) A plain-text summary (1-2 paragraphs) of the use case example you have chosen: include the target users and audience, and potential applicability. \n",
    "\n",
    "2) Markdown and code blocks demonstrating how one walks through the desired use case example. This should be similar to the labs we've done in class: you might want to demonstrate how to isolate a particularly interesting time period, then create an image showing a feature you're interested in, for example.\n",
    "\n",
    "3) A discussion of the results and how they might be extended on further analysis. For example, if there are data quality issues which impact the results, you could discuss how these might be mitigated with additional information/analysis.\n",
    "\n",
    "Just keep in mind, you'll have roughly 20 minutes for your full presentation, and that goes surprisingly quickly! Probably 2-3 diagnostics is the most you'll be able to get through (you could try practicing with your group members to get a sense of timing).\n"
   ]
  },
  {
   "cell_type": "markdown",
   "id": "9d07de0d-1e81-442a-a895-7b7fd7906385",
   "metadata": {},
   "source": [
    "<a id='binder'></a> \n",
    "### Create Binder Environment\n",
    "\n",
    "The last step is to create a Binder environment for your project, so that we don't have to spend time configuring everyone's environment each time we switch between group presentations. Instructions are below:\n",
    "\n",
    " - Assemble all of the data needed in your Github repo: Jupyter notebooks, a README file, and any datasets needed (these should be small, if included within the repo). Larger datasets should be stored on a separate server, and access codes included within the Jupyter notebook as discussed above. \n",
    " \n",
    " - Create an _environment_ file: this is a text file which contains information on the packages needed in order to execute your code. The filename should be \"environment.yml\": an example that you can use for the proper syntax is included in this template repo. To determine which packages to include, you'll probably want to start by displaying the packages loaded in your environment: you can use the command `conda list -n [environment_name]` to get a list.\n",
    " \n",
    " More information on environment files can be found here:\n",
    " https://docs.conda.io/projects/conda/en/latest/user-guide/tasks/manage-environments.html#\n",
    "\n",
    " - Create Binder. Use http://mybinder.org to create a  URL for your notebook Binder (you will need to enter your GitHub repo URL). You can also add a Launch Binder button directly to your GitHub repo, by including the following in your README.md:\n",
    "\n",
    "```\n",
    "launch with myBinder\n",
    "[![Binder](https://mybinder.org/badge.svg)](https://mybinder.org/v2/gh/<path to your repo>)\n",
    "```"
   ]
  },
  {
   "cell_type": "markdown",
   "id": "c62c774b-8a7c-4f47-9c07-7f9823c48473",
   "metadata": {},
   "source": [
    "<a id='references'></a> \n",
    "### References\n",
    "\n",
    "List relevant references. Here are some additional resources on creating professional, shareable notebooks you may find useful:\n",
    "\n",
    "1. Notebook sharing guidelines from reproducible-science-curriculum: https://reproducible-science-curriculum.github.io/publication-RR-Jupyter/\n",
    "2. Guide for developing shareable notebooks by Kevin Coakley, SDSC: https://github.com/kevincoakley/sharing-jupyter-notebooks/raw/master/Jupyter-Notebooks-Sharing-Recommendations.pdf\n",
    "3. Guide for sharing notebooks by Andrea Zonca, SDSC: https://zonca.dev/2020/09/how-to-share-jupyter-notebooks.html\n",
    "4. Jupyter Notebook Best Practices: https://towardsdatascience.com/jupyter-notebook-best-practices-f430a6ba8c69\n",
    "5. Introduction to Jupyter templates nbextension: https://towardsdatascience.com/stop-copy-pasting-notebooks-embrace-jupyter-templates-6bd7b6c00b94  \n",
    "    5.1. Table of Contents (Toc2) readthedocs: https://jupyter-contrib-nbextensions.readthedocs.io/en/latest/nbextensions/toc2/README.html  \n",
    "    5.2. Steps to install toc2: https://stackoverflow.com/questions/23435723/installing-ipython-notebook-table-of-contents\n",
    "6. Rule A, Birmingham A, Zuniga C, Altintas I, Huang SC, et al. (2019) Ten simple rules for writing and sharing computational analyses in Jupyter Notebooks. PLOS Computational Biology 15(7): e1007007. https://doi.org/10.1371/journal.pcbi.1007007. Supplementary materials: example notebooks (https://github.com/jupyter-guide/ten-rules-jupyter) and tutorial (https://github.com/ISMB-ECCB-2019-Tutorial-AM4/reproducible-computational-workflows)\n",
    "7. Languages supported by Jupyter kernels: https://github.com/jupyter/jupyter/wiki/Jupyter-kernels\n",
    "8. EarthCube notebooks presented at EC Annual Meeting 2020: https://www.earthcube.org/notebooks\n",
    "9. Manage your Python Virtual Environment with Conda: https://towardsdatascience.com/manage-your-python-virtual-environment-with-conda-a0d2934d5195\n",
    "10. Venv - Creation of Virtual Environments: https://docs.python.org/3/library/venv.html"
   ]
  },
  {
   "cell_type": "code",
   "execution_count": null,
   "id": "e9f10df5-100c-4f4a-a1c3-bd417b524a61",
   "metadata": {},
   "outputs": [],
   "source": []
  }
 ],
 "metadata": {
  "kernelspec": {
   "display_name": "Python 3 (ipykernel)",
   "language": "python",
   "name": "python3"
  },
  "language_info": {
   "codemirror_mode": {
    "name": "ipython",
    "version": 3
   },
   "file_extension": ".py",
   "mimetype": "text/x-python",
   "name": "python",
   "nbconvert_exporter": "python",
   "pygments_lexer": "ipython3",
   "version": "3.10.5"
  }
 },
 "nbformat": 4,
 "nbformat_minor": 5
}
